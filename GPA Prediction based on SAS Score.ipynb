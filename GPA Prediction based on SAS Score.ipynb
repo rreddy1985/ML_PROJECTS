{
 "cells": [
  {
   "cell_type": "code",
   "execution_count": 3,
   "metadata": {},
   "outputs": [
    {
     "data": {
      "text/html": [
       "<div>\n",
       "<style scoped>\n",
       "    .dataframe tbody tr th:only-of-type {\n",
       "        vertical-align: middle;\n",
       "    }\n",
       "\n",
       "    .dataframe tbody tr th {\n",
       "        vertical-align: top;\n",
       "    }\n",
       "\n",
       "    .dataframe thead th {\n",
       "        text-align: right;\n",
       "    }\n",
       "</style>\n",
       "<table border=\"1\" class=\"dataframe\">\n",
       "  <thead>\n",
       "    <tr style=\"text-align: right;\">\n",
       "      <th></th>\n",
       "      <th>SAT</th>\n",
       "      <th>GPA</th>\n",
       "    </tr>\n",
       "  </thead>\n",
       "  <tbody>\n",
       "    <tr>\n",
       "      <th>0</th>\n",
       "      <td>1714</td>\n",
       "      <td>2.40</td>\n",
       "    </tr>\n",
       "    <tr>\n",
       "      <th>1</th>\n",
       "      <td>1664</td>\n",
       "      <td>2.52</td>\n",
       "    </tr>\n",
       "    <tr>\n",
       "      <th>2</th>\n",
       "      <td>1760</td>\n",
       "      <td>2.54</td>\n",
       "    </tr>\n",
       "    <tr>\n",
       "      <th>3</th>\n",
       "      <td>1685</td>\n",
       "      <td>2.74</td>\n",
       "    </tr>\n",
       "    <tr>\n",
       "      <th>4</th>\n",
       "      <td>1693</td>\n",
       "      <td>2.83</td>\n",
       "    </tr>\n",
       "  </tbody>\n",
       "</table>\n",
       "</div>"
      ],
      "text/plain": [
       "    SAT   GPA\n",
       "0  1714  2.40\n",
       "1  1664  2.52\n",
       "2  1760  2.54\n",
       "3  1685  2.74\n",
       "4  1693  2.83"
      ]
     },
     "execution_count": 3,
     "metadata": {},
     "output_type": "execute_result"
    }
   ],
   "source": [
    "#BUILD A MODEL TO LEARN FROM THIS DATA AND BE ABLE TO PREDICT THE GPA GIVEN any sat score\n",
    "import pandas as pd\n",
    "lpath=\"/Users/sireesh/Downloads/\"\n",
    "d=pd.read_csv(lpath+\"Scores.csv\")\n",
    "d.head() #top 5 records displayed"
   ]
  },
  {
   "cell_type": "code",
   "execution_count": 4,
   "metadata": {},
   "outputs": [
    {
     "data": {
      "text/html": [
       "<div>\n",
       "<style scoped>\n",
       "    .dataframe tbody tr th:only-of-type {\n",
       "        vertical-align: middle;\n",
       "    }\n",
       "\n",
       "    .dataframe tbody tr th {\n",
       "        vertical-align: top;\n",
       "    }\n",
       "\n",
       "    .dataframe thead th {\n",
       "        text-align: right;\n",
       "    }\n",
       "</style>\n",
       "<table border=\"1\" class=\"dataframe\">\n",
       "  <thead>\n",
       "    <tr style=\"text-align: right;\">\n",
       "      <th></th>\n",
       "      <th>SAT</th>\n",
       "      <th>GPA</th>\n",
       "    </tr>\n",
       "  </thead>\n",
       "  <tbody>\n",
       "    <tr>\n",
       "      <th>0</th>\n",
       "      <td>1714</td>\n",
       "      <td>2.40</td>\n",
       "    </tr>\n",
       "    <tr>\n",
       "      <th>1</th>\n",
       "      <td>1664</td>\n",
       "      <td>2.52</td>\n",
       "    </tr>\n",
       "    <tr>\n",
       "      <th>2</th>\n",
       "      <td>1760</td>\n",
       "      <td>2.54</td>\n",
       "    </tr>\n",
       "    <tr>\n",
       "      <th>3</th>\n",
       "      <td>1685</td>\n",
       "      <td>2.74</td>\n",
       "    </tr>\n",
       "    <tr>\n",
       "      <th>4</th>\n",
       "      <td>1693</td>\n",
       "      <td>2.83</td>\n",
       "    </tr>\n",
       "  </tbody>\n",
       "</table>\n",
       "</div>"
      ],
      "text/plain": [
       "    SAT   GPA\n",
       "0  1714  2.40\n",
       "1  1664  2.52\n",
       "2  1760  2.54\n",
       "3  1685  2.74\n",
       "4  1693  2.83"
      ]
     },
     "execution_count": 4,
     "metadata": {},
     "output_type": "execute_result"
    }
   ],
   "source": [
    "from sklearn.model_selection import train_test_split\n",
    "train_set,test_set=train_test_split(d,test_size=0.2,shuffle=False)\n",
    "train_set.head()"
   ]
  },
  {
   "cell_type": "code",
   "execution_count": 6,
   "metadata": {},
   "outputs": [
    {
     "data": {
      "image/png": "[encoded data removed]",
      "text/plain": [
       "<Figure size 720x360 with 1 Axes>"
      ]
     },
     "metadata": {
      "needs_background": "light"
     },
     "output_type": "display_data"
    }
   ],
   "source": [
    "import matplotlib.pyplot as plt\n",
    "d['GPA'].hist(bins=50,figsize=(10,5))\n",
    "plt.show()"
   ]
  },
  {
   "cell_type": "code",
   "execution_count": 15,
   "metadata": {},
   "outputs": [
    {
     "name": "stdout",
     "output_type": "stream",
     "text": [
      "[[16.64]\n",
      " [17.6 ]]\n",
      "[[2.52]\n",
      " [2.54]]\n",
      "[[18.61]\n",
      " [19.31]]\n",
      "[[3.58]\n",
      " [3.58]]\n"
     ]
    }
   ],
   "source": [
    "#preparing data for ML Algo's\n",
    "#seperate the target from dataset\n",
    "import numpy as np\n",
    "train_set_x=train_set[\"SAT\"]\n",
    "train_set_x=train_set_x[:,np.newaxis]/100\n",
    "\n",
    "train_set_y=train_set[\"GPA\"]\n",
    "train_set_y=train_set_y[:,np.newaxis]\n",
    "\n",
    "test_set_x=test_set[\"SAT\"]\n",
    "test_set_x=test_set_x[:,np.newaxis]/100\n",
    "test_set_y=test_set[\"GPA\"]\n",
    "test_set_y=test_set_y[:,np.newaxis]\n",
    "\n",
    "print(train_set_x[1:3])\n",
    "print(train_set_y[1:3])\n",
    "print(test_set_x[1:3])\n",
    "print(test_set_y[1:3])"
   ]
  },
  {
   "cell_type": "code",
   "execution_count": 16,
   "metadata": {},
   "outputs": [
    {
     "data": {
      "text/plain": [
       "LinearRegression(copy_X=True, fit_intercept=True, n_jobs=None,\n",
       "         normalize=False)"
      ]
     },
     "execution_count": 16,
     "metadata": {},
     "output_type": "execute_result"
    }
   ],
   "source": [
    "#LINEAR REGRESSION\n",
    "#Train the Model\n",
    "#MODEL FIT\n",
    "from sklearn import linear_model\n",
    "regr=linear_model.LinearRegression()\n",
    "regr.fit(train_set_x,train_set_y)"
   ]
  },
  {
   "cell_type": "code",
   "execution_count": 17,
   "metadata": {},
   "outputs": [
    {
     "data": {
      "text/plain": [
       "array([[3.40232933],\n",
       "       [3.30341862],\n",
       "       [3.3982645 ],\n",
       "       [3.40097438],\n",
       "       [3.19095851],\n",
       "       [3.45788191],\n",
       "       [3.40232933],\n",
       "       [3.5202092 ],\n",
       "       [3.51207956],\n",
       "       [3.48769062],\n",
       "       [3.51885426],\n",
       "       [3.27902968],\n",
       "       [3.40503921],\n",
       "       [3.23431663],\n",
       "       [3.4741412 ],\n",
       "       [3.44026768],\n",
       "       [3.5595025 ]])"
      ]
     },
     "execution_count": 17,
     "metadata": {},
     "output_type": "execute_result"
    }
   ],
   "source": [
    "#PREDICTION\n",
    "#PREDICTION\n",
    "GPA_y_predict=regr.predict(test_set_x)\n",
    "GPA_y_predict"
   ]
  },
  {
   "cell_type": "code",
   "execution_count": 13,
   "metadata": {},
   "outputs": [
    {
     "name": "stdout",
     "output_type": "stream",
     "text": [
      "float64 float64\n",
      "Actual Data.. [[3.54]\n",
      " [3.58]\n",
      " [3.58]\n",
      " [3.59]\n",
      " [3.59]\n",
      " [3.6 ]\n",
      " [3.6 ]\n",
      " [3.61]\n",
      " [3.62]\n",
      " [3.64]\n",
      " [3.65]\n",
      " [3.71]\n",
      " [3.71]\n",
      " [3.71]\n",
      " [3.73]\n",
      " [3.76]\n",
      " [3.81]]\n",
      "Predicted Values.. [[3.40232933]\n",
      " [3.30341862]\n",
      " [3.3982645 ]\n",
      " [3.40097438]\n",
      " [3.19095851]\n",
      " [3.45788191]\n",
      " [3.40232933]\n",
      " [3.5202092 ]\n",
      " [3.51207956]\n",
      " [3.48769062]\n",
      " [3.51885426]\n",
      " [3.27902968]\n",
      " [3.40503921]\n",
      " [3.23431663]\n",
      " [3.4741412 ]\n",
      " [3.44026768]\n",
      " [3.5595025 ]]\n",
      "0.06931020710133429\n"
     ]
    }
   ],
   "source": [
    "#FINE TUNE THE MODEL #what is the error?\n",
    "from sklearn.metrics import mean_squared_error,r2_score\n",
    "np.set_printoptions(suppress=True)\n",
    "print(test_set_y.dtype,GPA_y_predict.dtype)\n",
    "print(\"Actual Data..\",test_set_y)\n",
    "print(\"Predicted Values..\",GPA_y_predict)\n",
    "print(mean_squared_error(test_set_y,GPA_y_predict))"
   ]
  },
  {
   "cell_type": "code",
   "execution_count": 18,
   "metadata": {},
   "outputs": [
    {
     "data": {
      "image/png": "[encoded data removed]",
      "text/plain": [
       "<Figure size 432x288 with 1 Axes>"
      ]
     },
     "metadata": {
      "needs_background": "light"
     },
     "output_type": "display_data"
    }
   ],
   "source": [
    "plt.scatter(test_set_x,test_set_y, color='black')\n",
    "plt.plot(test_set_x,GPA_y_predict, color='blue')\n",
    "plt.show()"
   ]
  },
  {
   "cell_type": "code",
   "execution_count": null,
   "metadata": {},
   "outputs": [],
   "source": []
  }
 ],
 "metadata": {
  "kernelspec": {
   "display_name": "Python 3",
   "language": "python",
   "name": "python3"
  },
  "language_info": {
   "codemirror_mode": {
    "name": "ipython",
    "version": 3
   },
   "file_extension": ".py",
   "mimetype": "text/x-python",
   "name": "python",
   "nbconvert_exporter": "python",
   "pygments_lexer": "ipython3",
   "version": "3.7.1"
  }
 },
 "nbformat": 4,
 "nbformat_minor": 2
}
